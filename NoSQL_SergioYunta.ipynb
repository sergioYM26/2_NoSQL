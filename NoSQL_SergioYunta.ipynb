{
 "cells": [
  {
   "cell_type": "markdown",
   "metadata": {},
   "source": [
    "# Práctica NoSQL Sergio Yunta Martín\n",
    "El conjunto de datos elegido es el de la calidad del aire de la ciudad de Madrid, es un tema que me llama mucho a atención, además que recientemente me he fijado en las aplicaciones relacionadas con este tema en el teléfono móvil y ordenador."
   ]
  },
  {
   "cell_type": "markdown",
   "metadata": {},
   "source": [
    "## Descripción de caso de uso\n",
    "\n",
    "La idea con este conjunto de datos es estudiar la calidad del aire en diferentes momentos del año en la ciudad de Madrid, así como las zonas más y menos afectadas por la contaminación para poder generar métricas y tomar decisiones para mejorar la situación y avanzar hacia una ciudad más sostenible.\n",
    "\n",
    "Se desea acceder a los datos con la granularidad diaria, mensual e incluso obtener una media del año.\n",
    "\n",
    "En este caso de uso, ya que estamos de analítica, tenemos que usar el data store **mongoDB**. Queremos generar métricas y realizar operaciones sobre un gran número de datos, si lo indexamos correctamente (como veremos más adelante) este data store es idóneo para este caso de uso. Para usar **neo4j** necesitaríamos estar hablando de patrones y/o recomendaciones, que no es el caso."
   ]
  },
  {
   "cell_type": "markdown",
   "metadata": {},
   "source": [
    "## Modelado\n",
    "De cara a modelar los datos, tenemos que tener en cuenta que nos interesa tener la mayor cantidad de información de golpe, las relaciones no son idóneas por lo que idealmente guardaremos toda la información en una única colección.\n",
    "\n",
    "Esto lo tenemos que tener en cuenta a la hora de leer los datos. La idea es interactuar sobre mediciones, y no tanto sobre estaciones de medida, además, el número de estas no es muy grande ya que estamos hablando de datos sólo de la ciudad de Madrid, por lo que la redundancia no es un problema.\n",
    "\n",
    "También es importante saber el patrón de acceso a los datos, qué consultas vamos a hacer y por tanto qué datos vamos a necesitar para ellas.\n",
    "\n",
    "Con esto en mente, el modelo de datos quedaría así:\n",
    "\n",
    "![Modelo_Sergio_Yunta](./Modelo_SY.jpg)\n"
   ]
  },
  {
   "cell_type": "markdown",
   "metadata": {},
   "source": [
    "Finalmente la decisión ha sido embeber los datos de las estaciones dentro de las mediciones ya que la redundancia no es un problema porque el tamaño del documento no aumenta mucho. Por otro lado, se han omitido un montón de datos que para este caso de uso no aplican, o que se indican de maneras diferentes en el fichero de datos. Por último, se ha decidido que las mediciones diarias sean un array de valores así como separar la fecha para mejorar el acceso."
   ]
  },
  {
   "cell_type": "markdown",
   "metadata": {},
   "source": []
  }
 ],
 "metadata": {
  "language_info": {
   "name": "python"
  }
 },
 "nbformat": 4,
 "nbformat_minor": 2
}
